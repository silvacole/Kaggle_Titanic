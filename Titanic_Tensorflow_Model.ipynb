{
 "cells": [
  {
   "cell_type": "code",
   "execution_count": 1930,
   "metadata": {},
   "outputs": [],
   "source": [
    "import numpy as np\n",
    "import pandas as pd\n",
    "import seaborn as sns\n",
    "import matplotlib.pyplot as plt\n",
    "%matplotlib inline"
   ]
  },
  {
   "cell_type": "code",
   "execution_count": 1931,
   "metadata": {},
   "outputs": [],
   "source": [
    "#load the dataset and check the head\n",
    "train = pd.read_csv('titanic/train.csv')"
   ]
  },
  {
   "cell_type": "code",
   "execution_count": 1932,
   "metadata": {},
   "outputs": [
    {
     "data": {
      "text/html": [
       "<div>\n",
       "<style scoped>\n",
       "    .dataframe tbody tr th:only-of-type {\n",
       "        vertical-align: middle;\n",
       "    }\n",
       "\n",
       "    .dataframe tbody tr th {\n",
       "        vertical-align: top;\n",
       "    }\n",
       "\n",
       "    .dataframe thead th {\n",
       "        text-align: right;\n",
       "    }\n",
       "</style>\n",
       "<table border=\"1\" class=\"dataframe\">\n",
       "  <thead>\n",
       "    <tr style=\"text-align: right;\">\n",
       "      <th></th>\n",
       "      <th>PassengerId</th>\n",
       "      <th>Survived</th>\n",
       "      <th>Pclass</th>\n",
       "      <th>Name</th>\n",
       "      <th>Sex</th>\n",
       "      <th>Age</th>\n",
       "      <th>SibSp</th>\n",
       "      <th>Parch</th>\n",
       "      <th>Ticket</th>\n",
       "      <th>Fare</th>\n",
       "      <th>Cabin</th>\n",
       "      <th>Embarked</th>\n",
       "    </tr>\n",
       "  </thead>\n",
       "  <tbody>\n",
       "    <tr>\n",
       "      <th>0</th>\n",
       "      <td>1</td>\n",
       "      <td>0</td>\n",
       "      <td>3</td>\n",
       "      <td>Braund, Mr. Owen Harris</td>\n",
       "      <td>male</td>\n",
       "      <td>22.0</td>\n",
       "      <td>1</td>\n",
       "      <td>0</td>\n",
       "      <td>A/5 21171</td>\n",
       "      <td>7.2500</td>\n",
       "      <td>NaN</td>\n",
       "      <td>S</td>\n",
       "    </tr>\n",
       "    <tr>\n",
       "      <th>1</th>\n",
       "      <td>2</td>\n",
       "      <td>1</td>\n",
       "      <td>1</td>\n",
       "      <td>Cumings, Mrs. John Bradley (Florence Briggs Th...</td>\n",
       "      <td>female</td>\n",
       "      <td>38.0</td>\n",
       "      <td>1</td>\n",
       "      <td>0</td>\n",
       "      <td>PC 17599</td>\n",
       "      <td>71.2833</td>\n",
       "      <td>C85</td>\n",
       "      <td>C</td>\n",
       "    </tr>\n",
       "    <tr>\n",
       "      <th>2</th>\n",
       "      <td>3</td>\n",
       "      <td>1</td>\n",
       "      <td>3</td>\n",
       "      <td>Heikkinen, Miss. Laina</td>\n",
       "      <td>female</td>\n",
       "      <td>26.0</td>\n",
       "      <td>0</td>\n",
       "      <td>0</td>\n",
       "      <td>STON/O2. 3101282</td>\n",
       "      <td>7.9250</td>\n",
       "      <td>NaN</td>\n",
       "      <td>S</td>\n",
       "    </tr>\n",
       "    <tr>\n",
       "      <th>3</th>\n",
       "      <td>4</td>\n",
       "      <td>1</td>\n",
       "      <td>1</td>\n",
       "      <td>Futrelle, Mrs. Jacques Heath (Lily May Peel)</td>\n",
       "      <td>female</td>\n",
       "      <td>35.0</td>\n",
       "      <td>1</td>\n",
       "      <td>0</td>\n",
       "      <td>113803</td>\n",
       "      <td>53.1000</td>\n",
       "      <td>C123</td>\n",
       "      <td>S</td>\n",
       "    </tr>\n",
       "    <tr>\n",
       "      <th>4</th>\n",
       "      <td>5</td>\n",
       "      <td>0</td>\n",
       "      <td>3</td>\n",
       "      <td>Allen, Mr. William Henry</td>\n",
       "      <td>male</td>\n",
       "      <td>35.0</td>\n",
       "      <td>0</td>\n",
       "      <td>0</td>\n",
       "      <td>373450</td>\n",
       "      <td>8.0500</td>\n",
       "      <td>NaN</td>\n",
       "      <td>S</td>\n",
       "    </tr>\n",
       "  </tbody>\n",
       "</table>\n",
       "</div>"
      ],
      "text/plain": [
       "   PassengerId  Survived  Pclass  \\\n",
       "0            1         0       3   \n",
       "1            2         1       1   \n",
       "2            3         1       3   \n",
       "3            4         1       1   \n",
       "4            5         0       3   \n",
       "\n",
       "                                                Name     Sex   Age  SibSp  \\\n",
       "0                            Braund, Mr. Owen Harris    male  22.0      1   \n",
       "1  Cumings, Mrs. John Bradley (Florence Briggs Th...  female  38.0      1   \n",
       "2                             Heikkinen, Miss. Laina  female  26.0      0   \n",
       "3       Futrelle, Mrs. Jacques Heath (Lily May Peel)  female  35.0      1   \n",
       "4                           Allen, Mr. William Henry    male  35.0      0   \n",
       "\n",
       "   Parch            Ticket     Fare Cabin Embarked  \n",
       "0      0         A/5 21171   7.2500   NaN        S  \n",
       "1      0          PC 17599  71.2833   C85        C  \n",
       "2      0  STON/O2. 3101282   7.9250   NaN        S  \n",
       "3      0            113803  53.1000  C123        S  \n",
       "4      0            373450   8.0500   NaN        S  "
      ]
     },
     "execution_count": 1932,
     "metadata": {},
     "output_type": "execute_result"
    }
   ],
   "source": [
    "train.head()"
   ]
  },
  {
   "cell_type": "markdown",
   "metadata": {},
   "source": [
    "# Initial Data Exploration"
   ]
  },
  {
   "cell_type": "code",
   "execution_count": 1933,
   "metadata": {},
   "outputs": [
    {
     "name": "stdout",
     "output_type": "stream",
     "text": [
      "<class 'pandas.core.frame.DataFrame'>\n",
      "RangeIndex: 891 entries, 0 to 890\n",
      "Data columns (total 12 columns):\n",
      " #   Column       Non-Null Count  Dtype  \n",
      "---  ------       --------------  -----  \n",
      " 0   PassengerId  891 non-null    int64  \n",
      " 1   Survived     891 non-null    int64  \n",
      " 2   Pclass       891 non-null    int64  \n",
      " 3   Name         891 non-null    object \n",
      " 4   Sex          891 non-null    object \n",
      " 5   Age          714 non-null    float64\n",
      " 6   SibSp        891 non-null    int64  \n",
      " 7   Parch        891 non-null    int64  \n",
      " 8   Ticket       891 non-null    object \n",
      " 9   Fare         891 non-null    float64\n",
      " 10  Cabin        204 non-null    object \n",
      " 11  Embarked     889 non-null    object \n",
      "dtypes: float64(2), int64(5), object(5)\n",
      "memory usage: 83.7+ KB\n"
     ]
    }
   ],
   "source": [
    "train.info()"
   ]
  },
  {
   "cell_type": "code",
   "execution_count": 1934,
   "metadata": {},
   "outputs": [
    {
     "data": {
      "text/html": [
       "<div>\n",
       "<style scoped>\n",
       "    .dataframe tbody tr th:only-of-type {\n",
       "        vertical-align: middle;\n",
       "    }\n",
       "\n",
       "    .dataframe tbody tr th {\n",
       "        vertical-align: top;\n",
       "    }\n",
       "\n",
       "    .dataframe thead th {\n",
       "        text-align: right;\n",
       "    }\n",
       "</style>\n",
       "<table border=\"1\" class=\"dataframe\">\n",
       "  <thead>\n",
       "    <tr style=\"text-align: right;\">\n",
       "      <th></th>\n",
       "      <th>PassengerId</th>\n",
       "      <th>Survived</th>\n",
       "      <th>Pclass</th>\n",
       "      <th>Age</th>\n",
       "      <th>SibSp</th>\n",
       "      <th>Parch</th>\n",
       "      <th>Fare</th>\n",
       "    </tr>\n",
       "  </thead>\n",
       "  <tbody>\n",
       "    <tr>\n",
       "      <th>count</th>\n",
       "      <td>891.000000</td>\n",
       "      <td>891.000000</td>\n",
       "      <td>891.000000</td>\n",
       "      <td>714.000000</td>\n",
       "      <td>891.000000</td>\n",
       "      <td>891.000000</td>\n",
       "      <td>891.000000</td>\n",
       "    </tr>\n",
       "    <tr>\n",
       "      <th>mean</th>\n",
       "      <td>446.000000</td>\n",
       "      <td>0.383838</td>\n",
       "      <td>2.308642</td>\n",
       "      <td>29.699118</td>\n",
       "      <td>0.523008</td>\n",
       "      <td>0.381594</td>\n",
       "      <td>32.204208</td>\n",
       "    </tr>\n",
       "    <tr>\n",
       "      <th>std</th>\n",
       "      <td>257.353842</td>\n",
       "      <td>0.486592</td>\n",
       "      <td>0.836071</td>\n",
       "      <td>14.526497</td>\n",
       "      <td>1.102743</td>\n",
       "      <td>0.806057</td>\n",
       "      <td>49.693429</td>\n",
       "    </tr>\n",
       "    <tr>\n",
       "      <th>min</th>\n",
       "      <td>1.000000</td>\n",
       "      <td>0.000000</td>\n",
       "      <td>1.000000</td>\n",
       "      <td>0.420000</td>\n",
       "      <td>0.000000</td>\n",
       "      <td>0.000000</td>\n",
       "      <td>0.000000</td>\n",
       "    </tr>\n",
       "    <tr>\n",
       "      <th>25%</th>\n",
       "      <td>223.500000</td>\n",
       "      <td>0.000000</td>\n",
       "      <td>2.000000</td>\n",
       "      <td>20.125000</td>\n",
       "      <td>0.000000</td>\n",
       "      <td>0.000000</td>\n",
       "      <td>7.910400</td>\n",
       "    </tr>\n",
       "    <tr>\n",
       "      <th>50%</th>\n",
       "      <td>446.000000</td>\n",
       "      <td>0.000000</td>\n",
       "      <td>3.000000</td>\n",
       "      <td>28.000000</td>\n",
       "      <td>0.000000</td>\n",
       "      <td>0.000000</td>\n",
       "      <td>14.454200</td>\n",
       "    </tr>\n",
       "    <tr>\n",
       "      <th>75%</th>\n",
       "      <td>668.500000</td>\n",
       "      <td>1.000000</td>\n",
       "      <td>3.000000</td>\n",
       "      <td>38.000000</td>\n",
       "      <td>1.000000</td>\n",
       "      <td>0.000000</td>\n",
       "      <td>31.000000</td>\n",
       "    </tr>\n",
       "    <tr>\n",
       "      <th>max</th>\n",
       "      <td>891.000000</td>\n",
       "      <td>1.000000</td>\n",
       "      <td>3.000000</td>\n",
       "      <td>80.000000</td>\n",
       "      <td>8.000000</td>\n",
       "      <td>6.000000</td>\n",
       "      <td>512.329200</td>\n",
       "    </tr>\n",
       "  </tbody>\n",
       "</table>\n",
       "</div>"
      ],
      "text/plain": [
       "       PassengerId    Survived      Pclass         Age       SibSp  \\\n",
       "count   891.000000  891.000000  891.000000  714.000000  891.000000   \n",
       "mean    446.000000    0.383838    2.308642   29.699118    0.523008   \n",
       "std     257.353842    0.486592    0.836071   14.526497    1.102743   \n",
       "min       1.000000    0.000000    1.000000    0.420000    0.000000   \n",
       "25%     223.500000    0.000000    2.000000   20.125000    0.000000   \n",
       "50%     446.000000    0.000000    3.000000   28.000000    0.000000   \n",
       "75%     668.500000    1.000000    3.000000   38.000000    1.000000   \n",
       "max     891.000000    1.000000    3.000000   80.000000    8.000000   \n",
       "\n",
       "            Parch        Fare  \n",
       "count  891.000000  891.000000  \n",
       "mean     0.381594   32.204208  \n",
       "std      0.806057   49.693429  \n",
       "min      0.000000    0.000000  \n",
       "25%      0.000000    7.910400  \n",
       "50%      0.000000   14.454200  \n",
       "75%      0.000000   31.000000  \n",
       "max      6.000000  512.329200  "
      ]
     },
     "execution_count": 1934,
     "metadata": {},
     "output_type": "execute_result"
    }
   ],
   "source": [
    "train.describe()"
   ]
  },
  {
   "cell_type": "code",
   "execution_count": 1935,
   "metadata": {},
   "outputs": [
    {
     "data": {
      "text/plain": [
       "<matplotlib.axes._subplots.AxesSubplot at 0x7feb3c07b970>"
      ]
     },
     "execution_count": 1935,
     "metadata": {},
     "output_type": "execute_result"
    },
    {
     "data": {
      "image/png": "[encoded data removed]",
      "text/plain": [
       "<Figure size 432x288 with 1 Axes>"
      ]
     },
     "metadata": {
      "needs_background": "light"
     },
     "output_type": "display_data"
    }
   ],
   "source": [
    "sns.countplot(x='Survived', data=train)"
   ]
  },
  {
   "cell_type": "code",
   "execution_count": 1936,
   "metadata": {},
   "outputs": [
    {
     "data": {
      "text/html": [
       "<div>\n",
       "<style scoped>\n",
       "    .dataframe tbody tr th:only-of-type {\n",
       "        vertical-align: middle;\n",
       "    }\n",
       "\n",
       "    .dataframe tbody tr th {\n",
       "        vertical-align: top;\n",
       "    }\n",
       "\n",
       "    .dataframe thead th {\n",
       "        text-align: right;\n",
       "    }\n",
       "</style>\n",
       "<table border=\"1\" class=\"dataframe\">\n",
       "  <thead>\n",
       "    <tr style=\"text-align: right;\">\n",
       "      <th></th>\n",
       "      <th>Survived</th>\n",
       "    </tr>\n",
       "    <tr>\n",
       "      <th>Sex</th>\n",
       "      <th></th>\n",
       "    </tr>\n",
       "  </thead>\n",
       "  <tbody>\n",
       "    <tr>\n",
       "      <th>female</th>\n",
       "      <td>314</td>\n",
       "    </tr>\n",
       "    <tr>\n",
       "      <th>male</th>\n",
       "      <td>577</td>\n",
       "    </tr>\n",
       "  </tbody>\n",
       "</table>\n",
       "</div>"
      ],
      "text/plain": [
       "        Survived\n",
       "Sex             \n",
       "female       314\n",
       "male         577"
      ]
     },
     "execution_count": 1936,
     "metadata": {},
     "output_type": "execute_result"
    }
   ],
   "source": [
    "#explore relations between sex and survival\n",
    "train.groupby('Sex')[['Survived']].count()"
   ]
  },
  {
   "cell_type": "code",
   "execution_count": 1937,
   "metadata": {},
   "outputs": [
    {
     "data": {
      "text/html": [
       "<div>\n",
       "<style scoped>\n",
       "    .dataframe tbody tr th:only-of-type {\n",
       "        vertical-align: middle;\n",
       "    }\n",
       "\n",
       "    .dataframe tbody tr th {\n",
       "        vertical-align: top;\n",
       "    }\n",
       "\n",
       "    .dataframe thead th {\n",
       "        text-align: right;\n",
       "    }\n",
       "</style>\n",
       "<table border=\"1\" class=\"dataframe\">\n",
       "  <thead>\n",
       "    <tr style=\"text-align: right;\">\n",
       "      <th></th>\n",
       "      <th>Survived</th>\n",
       "    </tr>\n",
       "    <tr>\n",
       "      <th>Sex</th>\n",
       "      <th></th>\n",
       "    </tr>\n",
       "  </thead>\n",
       "  <tbody>\n",
       "    <tr>\n",
       "      <th>female</th>\n",
       "      <td>0.742038</td>\n",
       "    </tr>\n",
       "    <tr>\n",
       "      <th>male</th>\n",
       "      <td>0.188908</td>\n",
       "    </tr>\n",
       "  </tbody>\n",
       "</table>\n",
       "</div>"
      ],
      "text/plain": [
       "        Survived\n",
       "Sex             \n",
       "female  0.742038\n",
       "male    0.188908"
      ]
     },
     "execution_count": 1937,
     "metadata": {},
     "output_type": "execute_result"
    }
   ],
   "source": [
    "train.groupby('Sex')[['Survived']].mean()"
   ]
  },
  {
   "cell_type": "code",
   "execution_count": 1938,
   "metadata": {},
   "outputs": [
    {
     "data": {
      "text/plain": [
       "<matplotlib.axes._subplots.AxesSubplot at 0x7feb3c088310>"
      ]
     },
     "execution_count": 1938,
     "metadata": {},
     "output_type": "execute_result"
    },
    {
     "data": {
      "image/png": "[encoded data removed]",
      "text/plain": [
       "<Figure size 432x288 with 1 Axes>"
      ]
     },
     "metadata": {
      "needs_background": "light"
     },
     "output_type": "display_data"
    }
   ],
   "source": [
    "sns.countplot(x='Sex', data=train[(train['Sex'] == 'male') & (train['Survived'] == 1)], hue='Pclass')"
   ]
  },
  {
   "cell_type": "code",
   "execution_count": 1939,
   "metadata": {},
   "outputs": [
    {
     "data": {
      "text/plain": [
       "<matplotlib.axes._subplots.AxesSubplot at 0x7feb5cce0370>"
      ]
     },
     "execution_count": 1939,
     "metadata": {},
     "output_type": "execute_result"
    },
    {
     "data": {
      "image/png": "[encoded data removed]",
      "text/plain": [
       "<Figure size 720x360 with 2 Axes>"
      ]
     },
     "metadata": {
      "needs_background": "light"
     },
     "output_type": "display_data"
    }
   ],
   "source": [
    "#checking for differences in correlation between male/female survivors for potential interaction variables\n",
    "plt.figure(figsize=(10,5))\n",
    "sns.heatmap(train[(train['Sex'] == 'male')].corr(), cmap='rocket', annot=True)"
   ]
  },
  {
   "cell_type": "code",
   "execution_count": 1940,
   "metadata": {},
   "outputs": [
    {
     "data": {
      "text/plain": [
       "<matplotlib.axes._subplots.AxesSubplot at 0x7feb5c60d940>"
      ]
     },
     "execution_count": 1940,
     "metadata": {},
     "output_type": "execute_result"
    },
    {
     "data": {
      "image/png": "[encoded data removed]",
      "text/plain": [
       "<Figure size 720x360 with 2 Axes>"
      ]
     },
     "metadata": {
      "needs_background": "light"
     },
     "output_type": "display_data"
    }
   ],
   "source": [
    "plt.figure(figsize=(10,5))\n",
    "sns.heatmap(train[(train['Sex'] == 'female')].corr(), cmap='rocket', annot=True)"
   ]
  },
  {
   "cell_type": "code",
   "execution_count": 1941,
   "metadata": {},
   "outputs": [
    {
     "data": {
      "text/plain": [
       "<matplotlib.axes._subplots.AxesSubplot at 0x7feb3c904070>"
      ]
     },
     "execution_count": 1941,
     "metadata": {},
     "output_type": "execute_result"
    },
    {
     "data": {
      "image/png": "[encoded data removed]",
      "text/plain": [
       "<Figure size 432x288 with 1 Axes>"
      ]
     },
     "metadata": {
      "needs_background": "light"
     },
     "output_type": "display_data"
    }
   ],
   "source": [
    "sns.countplot(x='Sex', hue='Survived', data=train)"
   ]
  },
  {
   "cell_type": "code",
   "execution_count": 1942,
   "metadata": {},
   "outputs": [
    {
     "data": {
      "text/plain": [
       "<matplotlib.axes._subplots.AxesSubplot at 0x7feb3c998040>"
      ]
     },
     "execution_count": 1942,
     "metadata": {},
     "output_type": "execute_result"
    },
    {
     "data": {
      "image/png": "[encoded data removed]",
      "text/plain": [
       "<Figure size 432x288 with 1 Axes>"
      ]
     },
     "metadata": {
      "needs_background": "light"
     },
     "output_type": "display_data"
    }
   ],
   "source": [
    "#explore relations between PClass and survival\n",
    "sns.countplot(x='Pclass', hue='Survived', data=train)"
   ]
  },
  {
   "cell_type": "code",
   "execution_count": 1943,
   "metadata": {},
   "outputs": [
    {
     "data": {
      "text/plain": [
       "<matplotlib.axes._subplots.AxesSubplot at 0x7feb3c8701f0>"
      ]
     },
     "execution_count": 1943,
     "metadata": {},
     "output_type": "execute_result"
    },
    {
     "data": {
      "image/png": "[encoded data removed]",
      "text/plain": [
       "<Figure size 720x360 with 2 Axes>"
      ]
     },
     "metadata": {
      "needs_background": "light"
     },
     "output_type": "display_data"
    }
   ],
   "source": [
    "#check for NA values visually\n",
    "plt.figure(figsize=(10,5))\n",
    "sns.heatmap(train.isna())"
   ]
  },
  {
   "cell_type": "code",
   "execution_count": 1944,
   "metadata": {},
   "outputs": [
    {
     "data": {
      "text/plain": [
       "<matplotlib.axes._subplots.AxesSubplot at 0x7feb3c98cf10>"
      ]
     },
     "execution_count": 1944,
     "metadata": {},
     "output_type": "execute_result"
    },
    {
     "data": {
      "image/png": "[encoded data removed]",
      "text/plain": [
       "<Figure size 720x360 with 2 Axes>"
      ]
     },
     "metadata": {
      "needs_background": "light"
     },
     "output_type": "display_data"
    }
   ],
   "source": [
    "#check correlation through heatmap\n",
    "plt.figure(figsize=(10,5))\n",
    "sns.heatmap(train.corr(), cmap='magma', annot=True)"
   ]
  },
  {
   "cell_type": "code",
   "execution_count": 1945,
   "metadata": {},
   "outputs": [
    {
     "data": {
      "text/plain": [
       "<matplotlib.axes._subplots.AxesSubplot at 0x7feb3ce35550>"
      ]
     },
     "execution_count": 1945,
     "metadata": {},
     "output_type": "execute_result"
    },
    {
     "data": {
      "image/png": "[encoded data removed]",
      "text/plain": [
       "<Figure size 432x288 with 1 Axes>"
      ]
     },
     "metadata": {
      "needs_background": "light"
     },
     "output_type": "display_data"
    }
   ],
   "source": [
    "#check age by class\n",
    "sns.barplot(x='Pclass', y='Age', data=train)"
   ]
  },
  {
   "cell_type": "code",
   "execution_count": 1946,
   "metadata": {},
   "outputs": [
    {
     "data": {
      "text/html": [
       "<div>\n",
       "<style scoped>\n",
       "    .dataframe tbody tr th:only-of-type {\n",
       "        vertical-align: middle;\n",
       "    }\n",
       "\n",
       "    .dataframe tbody tr th {\n",
       "        vertical-align: top;\n",
       "    }\n",
       "\n",
       "    .dataframe thead th {\n",
       "        text-align: right;\n",
       "    }\n",
       "</style>\n",
       "<table border=\"1\" class=\"dataframe\">\n",
       "  <thead>\n",
       "    <tr style=\"text-align: right;\">\n",
       "      <th></th>\n",
       "      <th>Age</th>\n",
       "    </tr>\n",
       "    <tr>\n",
       "      <th>Pclass</th>\n",
       "      <th></th>\n",
       "    </tr>\n",
       "  </thead>\n",
       "  <tbody>\n",
       "    <tr>\n",
       "      <th>1</th>\n",
       "      <td>38.233441</td>\n",
       "    </tr>\n",
       "    <tr>\n",
       "      <th>2</th>\n",
       "      <td>29.877630</td>\n",
       "    </tr>\n",
       "    <tr>\n",
       "      <th>3</th>\n",
       "      <td>25.140620</td>\n",
       "    </tr>\n",
       "  </tbody>\n",
       "</table>\n",
       "</div>"
      ],
      "text/plain": [
       "              Age\n",
       "Pclass           \n",
       "1       38.233441\n",
       "2       29.877630\n",
       "3       25.140620"
      ]
     },
     "execution_count": 1946,
     "metadata": {},
     "output_type": "execute_result"
    }
   ],
   "source": [
    "train.groupby('Pclass')[['Age']].mean()"
   ]
  },
  {
   "cell_type": "code",
   "execution_count": 1947,
   "metadata": {},
   "outputs": [
    {
     "data": {
      "text/html": [
       "<div>\n",
       "<style scoped>\n",
       "    .dataframe tbody tr th:only-of-type {\n",
       "        vertical-align: middle;\n",
       "    }\n",
       "\n",
       "    .dataframe tbody tr th {\n",
       "        vertical-align: top;\n",
       "    }\n",
       "\n",
       "    .dataframe thead tr th {\n",
       "        text-align: left;\n",
       "    }\n",
       "\n",
       "    .dataframe thead tr:last-of-type th {\n",
       "        text-align: right;\n",
       "    }\n",
       "</style>\n",
       "<table border=\"1\" class=\"dataframe\">\n",
       "  <thead>\n",
       "    <tr>\n",
       "      <th></th>\n",
       "      <th></th>\n",
       "      <th colspan=\"2\" halign=\"left\">Age</th>\n",
       "      <th colspan=\"2\" halign=\"left\">Fare</th>\n",
       "    </tr>\n",
       "    <tr>\n",
       "      <th></th>\n",
       "      <th>Survived</th>\n",
       "      <th>0</th>\n",
       "      <th>1</th>\n",
       "      <th>0</th>\n",
       "      <th>1</th>\n",
       "    </tr>\n",
       "    <tr>\n",
       "      <th>Sex</th>\n",
       "      <th>Pclass</th>\n",
       "      <th></th>\n",
       "      <th></th>\n",
       "      <th></th>\n",
       "      <th></th>\n",
       "    </tr>\n",
       "  </thead>\n",
       "  <tbody>\n",
       "    <tr>\n",
       "      <th rowspan=\"3\" valign=\"top\">female</th>\n",
       "      <th>1</th>\n",
       "      <td>25.666667</td>\n",
       "      <td>34.939024</td>\n",
       "      <td>110.604167</td>\n",
       "      <td>105.978159</td>\n",
       "    </tr>\n",
       "    <tr>\n",
       "      <th>2</th>\n",
       "      <td>36.000000</td>\n",
       "      <td>28.080882</td>\n",
       "      <td>18.250000</td>\n",
       "      <td>22.288989</td>\n",
       "    </tr>\n",
       "    <tr>\n",
       "      <th>3</th>\n",
       "      <td>23.818182</td>\n",
       "      <td>19.329787</td>\n",
       "      <td>19.773093</td>\n",
       "      <td>12.464526</td>\n",
       "    </tr>\n",
       "    <tr>\n",
       "      <th rowspan=\"3\" valign=\"top\">male</th>\n",
       "      <th>1</th>\n",
       "      <td>44.581967</td>\n",
       "      <td>36.248000</td>\n",
       "      <td>62.894910</td>\n",
       "      <td>74.637320</td>\n",
       "    </tr>\n",
       "    <tr>\n",
       "      <th>2</th>\n",
       "      <td>33.369048</td>\n",
       "      <td>16.022000</td>\n",
       "      <td>19.488965</td>\n",
       "      <td>21.095100</td>\n",
       "    </tr>\n",
       "    <tr>\n",
       "      <th>3</th>\n",
       "      <td>27.255814</td>\n",
       "      <td>22.274211</td>\n",
       "      <td>12.204469</td>\n",
       "      <td>15.579696</td>\n",
       "    </tr>\n",
       "  </tbody>\n",
       "</table>\n",
       "</div>"
      ],
      "text/plain": [
       "                     Age                   Fare            \n",
       "Survived               0          1           0           1\n",
       "Sex    Pclass                                              \n",
       "female 1       25.666667  34.939024  110.604167  105.978159\n",
       "       2       36.000000  28.080882   18.250000   22.288989\n",
       "       3       23.818182  19.329787   19.773093   12.464526\n",
       "male   1       44.581967  36.248000   62.894910   74.637320\n",
       "       2       33.369048  16.022000   19.488965   21.095100\n",
       "       3       27.255814  22.274211   12.204469   15.579696"
      ]
     },
     "execution_count": 1947,
     "metadata": {},
     "output_type": "execute_result"
    }
   ],
   "source": [
    "#look for differences in survival based on sex + pclass\n",
    "pd.pivot_table(train, index=['Sex', 'Pclass'], columns=['Survived'], values=['Age', 'Fare'])"
   ]
  },
  {
   "cell_type": "markdown",
   "metadata": {},
   "source": [
    "# Data Cleaning"
   ]
  },
  {
   "cell_type": "code",
   "execution_count": 1948,
   "metadata": {},
   "outputs": [],
   "source": [
    "#remove columns that can't be used\n",
    "train.drop(['Cabin', 'Ticket'], axis=1, inplace=True)"
   ]
  },
  {
   "cell_type": "code",
   "execution_count": 1949,
   "metadata": {},
   "outputs": [
    {
     "data": {
      "text/html": [
       "<div>\n",
       "<style scoped>\n",
       "    .dataframe tbody tr th:only-of-type {\n",
       "        vertical-align: middle;\n",
       "    }\n",
       "\n",
       "    .dataframe tbody tr th {\n",
       "        vertical-align: top;\n",
       "    }\n",
       "\n",
       "    .dataframe thead th {\n",
       "        text-align: right;\n",
       "    }\n",
       "</style>\n",
       "<table border=\"1\" class=\"dataframe\">\n",
       "  <thead>\n",
       "    <tr style=\"text-align: right;\">\n",
       "      <th></th>\n",
       "      <th>PassengerId</th>\n",
       "      <th>Survived</th>\n",
       "      <th>Pclass</th>\n",
       "      <th>Name</th>\n",
       "      <th>Sex</th>\n",
       "      <th>Age</th>\n",
       "      <th>SibSp</th>\n",
       "      <th>Parch</th>\n",
       "      <th>Fare</th>\n",
       "      <th>Embarked</th>\n",
       "    </tr>\n",
       "  </thead>\n",
       "  <tbody>\n",
       "    <tr>\n",
       "      <th>0</th>\n",
       "      <td>1</td>\n",
       "      <td>0</td>\n",
       "      <td>3</td>\n",
       "      <td>Braund, Mr. Owen Harris</td>\n",
       "      <td>male</td>\n",
       "      <td>22.0</td>\n",
       "      <td>1</td>\n",
       "      <td>0</td>\n",
       "      <td>7.2500</td>\n",
       "      <td>S</td>\n",
       "    </tr>\n",
       "    <tr>\n",
       "      <th>1</th>\n",
       "      <td>2</td>\n",
       "      <td>1</td>\n",
       "      <td>1</td>\n",
       "      <td>Cumings, Mrs. John Bradley (Florence Briggs Th...</td>\n",
       "      <td>female</td>\n",
       "      <td>38.0</td>\n",
       "      <td>1</td>\n",
       "      <td>0</td>\n",
       "      <td>71.2833</td>\n",
       "      <td>C</td>\n",
       "    </tr>\n",
       "    <tr>\n",
       "      <th>2</th>\n",
       "      <td>3</td>\n",
       "      <td>1</td>\n",
       "      <td>3</td>\n",
       "      <td>Heikkinen, Miss. Laina</td>\n",
       "      <td>female</td>\n",
       "      <td>26.0</td>\n",
       "      <td>0</td>\n",
       "      <td>0</td>\n",
       "      <td>7.9250</td>\n",
       "      <td>S</td>\n",
       "    </tr>\n",
       "    <tr>\n",
       "      <th>3</th>\n",
       "      <td>4</td>\n",
       "      <td>1</td>\n",
       "      <td>1</td>\n",
       "      <td>Futrelle, Mrs. Jacques Heath (Lily May Peel)</td>\n",
       "      <td>female</td>\n",
       "      <td>35.0</td>\n",
       "      <td>1</td>\n",
       "      <td>0</td>\n",
       "      <td>53.1000</td>\n",
       "      <td>S</td>\n",
       "    </tr>\n",
       "    <tr>\n",
       "      <th>4</th>\n",
       "      <td>5</td>\n",
       "      <td>0</td>\n",
       "      <td>3</td>\n",
       "      <td>Allen, Mr. William Henry</td>\n",
       "      <td>male</td>\n",
       "      <td>35.0</td>\n",
       "      <td>0</td>\n",
       "      <td>0</td>\n",
       "      <td>8.0500</td>\n",
       "      <td>S</td>\n",
       "    </tr>\n",
       "  </tbody>\n",
       "</table>\n",
       "</div>"
      ],
      "text/plain": [
       "   PassengerId  Survived  Pclass  \\\n",
       "0            1         0       3   \n",
       "1            2         1       1   \n",
       "2            3         1       3   \n",
       "3            4         1       1   \n",
       "4            5         0       3   \n",
       "\n",
       "                                                Name     Sex   Age  SibSp  \\\n",
       "0                            Braund, Mr. Owen Harris    male  22.0      1   \n",
       "1  Cumings, Mrs. John Bradley (Florence Briggs Th...  female  38.0      1   \n",
       "2                             Heikkinen, Miss. Laina  female  26.0      0   \n",
       "3       Futrelle, Mrs. Jacques Heath (Lily May Peel)  female  35.0      1   \n",
       "4                           Allen, Mr. William Henry    male  35.0      0   \n",
       "\n",
       "   Parch     Fare Embarked  \n",
       "0      0   7.2500        S  \n",
       "1      0  71.2833        C  \n",
       "2      0   7.9250        S  \n",
       "3      0  53.1000        S  \n",
       "4      0   8.0500        S  "
      ]
     },
     "execution_count": 1949,
     "metadata": {},
     "output_type": "execute_result"
    }
   ],
   "source": [
    "train.head()"
   ]
  },
  {
   "cell_type": "code",
   "execution_count": 1950,
   "metadata": {},
   "outputs": [],
   "source": [
    "#Get dummy variables for sex column\n",
    "sex_dummies = pd.get_dummies(train['Sex'])"
   ]
  },
  {
   "cell_type": "code",
   "execution_count": 1951,
   "metadata": {},
   "outputs": [],
   "source": [
    "#apply dummy variables to dataset\n",
    "train = pd.concat([train, sex_dummies], axis=1)"
   ]
  },
  {
   "cell_type": "code",
   "execution_count": 1952,
   "metadata": {},
   "outputs": [],
   "source": [
    "#redo process for embarked\n",
    "embarked_dummies = pd.get_dummies(train['Embarked'])"
   ]
  },
  {
   "cell_type": "code",
   "execution_count": 1953,
   "metadata": {},
   "outputs": [],
   "source": [
    "train = pd.concat([train, embarked_dummies], axis=1)"
   ]
  },
  {
   "cell_type": "code",
   "execution_count": 1954,
   "metadata": {},
   "outputs": [],
   "source": [
    "#obtain and isolate the name prefix from each person\n",
    "train['Title'] = train['Name'].str.split(', ', expand=True)[1].str.split('.', expand=True)[0]"
   ]
  },
  {
   "cell_type": "code",
   "execution_count": 1955,
   "metadata": {},
   "outputs": [
    {
     "data": {
      "text/plain": [
       "array(['Mr', 'Mrs', 'Miss', 'Master', 'Don', 'Rev', 'Dr', 'Mme', 'Ms',\n",
       "       'Major', 'Lady', 'Sir', 'Mlle', 'Col', 'Capt', 'the Countess',\n",
       "       'Jonkheer'], dtype=object)"
      ]
     },
     "execution_count": 1955,
     "metadata": {},
     "output_type": "execute_result"
    }
   ],
   "source": [
    "#examine all the different prefixes\n",
    "train['Title'].unique()"
   ]
  },
  {
   "cell_type": "code",
   "execution_count": 1956,
   "metadata": {},
   "outputs": [],
   "source": [
    "#combine prefixes of similar nature into one column\n",
    "train['Title'] = train['Title'].replace(['Miss', 'Mrs','Ms', 'Mlle', 'Lady', 'Mme', 'the Countess', 'Dona'], 'Miss/Mrs/Ms')\n",
    "train['Title'] = train['Title'].replace(['Dr', 'Col', 'Major', 'Jonkheer', 'Capt', 'Sir', 'Don', 'Rev'], 'Dr/Military/Noble/Clergy')"
   ]
  },
  {
   "cell_type": "code",
   "execution_count": 1957,
   "metadata": {},
   "outputs": [],
   "source": [
    "#redo dummy process for prefixes\n",
    "title_dummies = pd.get_dummies(train['Title'])"
   ]
  },
  {
   "cell_type": "code",
   "execution_count": 1958,
   "metadata": {},
   "outputs": [],
   "source": [
    "train = pd.concat([train, title_dummies], axis=1)"
   ]
  },
  {
   "cell_type": "code",
   "execution_count": 1959,
   "metadata": {},
   "outputs": [],
   "source": [
    "#drop columns that dummies were made for\n",
    "train.drop(['Sex', 'Embarked', 'Name', 'Title'], axis=1, inplace=True)"
   ]
  },
  {
   "cell_type": "code",
   "execution_count": 1960,
   "metadata": {},
   "outputs": [
    {
     "data": {
      "text/html": [
       "<div>\n",
       "<style scoped>\n",
       "    .dataframe tbody tr th:only-of-type {\n",
       "        vertical-align: middle;\n",
       "    }\n",
       "\n",
       "    .dataframe tbody tr th {\n",
       "        vertical-align: top;\n",
       "    }\n",
       "\n",
       "    .dataframe thead th {\n",
       "        text-align: right;\n",
       "    }\n",
       "</style>\n",
       "<table border=\"1\" class=\"dataframe\">\n",
       "  <thead>\n",
       "    <tr style=\"text-align: right;\">\n",
       "      <th></th>\n",
       "      <th>PassengerId</th>\n",
       "      <th>Survived</th>\n",
       "      <th>Pclass</th>\n",
       "      <th>Age</th>\n",
       "      <th>SibSp</th>\n",
       "      <th>Parch</th>\n",
       "      <th>Fare</th>\n",
       "      <th>female</th>\n",
       "      <th>male</th>\n",
       "      <th>C</th>\n",
       "      <th>Q</th>\n",
       "      <th>S</th>\n",
       "      <th>Dr/Military/Noble/Clergy</th>\n",
       "      <th>Master</th>\n",
       "      <th>Miss/Mrs/Ms</th>\n",
       "      <th>Mr</th>\n",
       "    </tr>\n",
       "  </thead>\n",
       "  <tbody>\n",
       "    <tr>\n",
       "      <th>0</th>\n",
       "      <td>1</td>\n",
       "      <td>0</td>\n",
       "      <td>3</td>\n",
       "      <td>22.0</td>\n",
       "      <td>1</td>\n",
       "      <td>0</td>\n",
       "      <td>7.2500</td>\n",
       "      <td>0</td>\n",
       "      <td>1</td>\n",
       "      <td>0</td>\n",
       "      <td>0</td>\n",
       "      <td>1</td>\n",
       "      <td>0</td>\n",
       "      <td>0</td>\n",
       "      <td>0</td>\n",
       "      <td>1</td>\n",
       "    </tr>\n",
       "    <tr>\n",
       "      <th>1</th>\n",
       "      <td>2</td>\n",
       "      <td>1</td>\n",
       "      <td>1</td>\n",
       "      <td>38.0</td>\n",
       "      <td>1</td>\n",
       "      <td>0</td>\n",
       "      <td>71.2833</td>\n",
       "      <td>1</td>\n",
       "      <td>0</td>\n",
       "      <td>1</td>\n",
       "      <td>0</td>\n",
       "      <td>0</td>\n",
       "      <td>0</td>\n",
       "      <td>0</td>\n",
       "      <td>1</td>\n",
       "      <td>0</td>\n",
       "    </tr>\n",
       "    <tr>\n",
       "      <th>2</th>\n",
       "      <td>3</td>\n",
       "      <td>1</td>\n",
       "      <td>3</td>\n",
       "      <td>26.0</td>\n",
       "      <td>0</td>\n",
       "      <td>0</td>\n",
       "      <td>7.9250</td>\n",
       "      <td>1</td>\n",
       "      <td>0</td>\n",
       "      <td>0</td>\n",
       "      <td>0</td>\n",
       "      <td>1</td>\n",
       "      <td>0</td>\n",
       "      <td>0</td>\n",
       "      <td>1</td>\n",
       "      <td>0</td>\n",
       "    </tr>\n",
       "    <tr>\n",
       "      <th>3</th>\n",
       "      <td>4</td>\n",
       "      <td>1</td>\n",
       "      <td>1</td>\n",
       "      <td>35.0</td>\n",
       "      <td>1</td>\n",
       "      <td>0</td>\n",
       "      <td>53.1000</td>\n",
       "      <td>1</td>\n",
       "      <td>0</td>\n",
       "      <td>0</td>\n",
       "      <td>0</td>\n",
       "      <td>1</td>\n",
       "      <td>0</td>\n",
       "      <td>0</td>\n",
       "      <td>1</td>\n",
       "      <td>0</td>\n",
       "    </tr>\n",
       "    <tr>\n",
       "      <th>4</th>\n",
       "      <td>5</td>\n",
       "      <td>0</td>\n",
       "      <td>3</td>\n",
       "      <td>35.0</td>\n",
       "      <td>0</td>\n",
       "      <td>0</td>\n",
       "      <td>8.0500</td>\n",
       "      <td>0</td>\n",
       "      <td>1</td>\n",
       "      <td>0</td>\n",
       "      <td>0</td>\n",
       "      <td>1</td>\n",
       "      <td>0</td>\n",
       "      <td>0</td>\n",
       "      <td>0</td>\n",
       "      <td>1</td>\n",
       "    </tr>\n",
       "  </tbody>\n",
       "</table>\n",
       "</div>"
      ],
      "text/plain": [
       "   PassengerId  Survived  Pclass   Age  SibSp  Parch     Fare  female  male  \\\n",
       "0            1         0       3  22.0      1      0   7.2500       0     1   \n",
       "1            2         1       1  38.0      1      0  71.2833       1     0   \n",
       "2            3         1       3  26.0      0      0   7.9250       1     0   \n",
       "3            4         1       1  35.0      1      0  53.1000       1     0   \n",
       "4            5         0       3  35.0      0      0   8.0500       0     1   \n",
       "\n",
       "   C  Q  S  Dr/Military/Noble/Clergy  Master  Miss/Mrs/Ms  Mr  \n",
       "0  0  0  1                         0       0            0   1  \n",
       "1  1  0  0                         0       0            1   0  \n",
       "2  0  0  1                         0       0            1   0  \n",
       "3  0  0  1                         0       0            1   0  \n",
       "4  0  0  1                         0       0            0   1  "
      ]
     },
     "execution_count": 1960,
     "metadata": {},
     "output_type": "execute_result"
    }
   ],
   "source": [
    "train.head()"
   ]
  },
  {
   "cell_type": "code",
   "execution_count": 1961,
   "metadata": {},
   "outputs": [],
   "source": [
    "train['Family Size'] = train['SibSp'] + train['Parch'] + 1"
   ]
  },
  {
   "cell_type": "code",
   "execution_count": 1962,
   "metadata": {},
   "outputs": [],
   "source": [
    "#there was a decent negative correlation in SibSp and Parch for females, while\n",
    "#males had a correlation around 0 for each, so we create an interaction term\n",
    "#to help predict that difference\n",
    "train['Gender * Family Size'] = train['male'] * train['Family Size']"
   ]
  },
  {
   "cell_type": "code",
   "execution_count": 1963,
   "metadata": {},
   "outputs": [],
   "source": [
    "#from earlier, we found the average age for each PClass\n",
    "#so we can fill the n/a ages based on class\n",
    "def fill_age(columns):\n",
    "    \n",
    "    age = columns[0]\n",
    "    pclass = columns[1]\n",
    "    \n",
    "    if pd.isnull(age):\n",
    "        if pclass == 1:\n",
    "            return 37\n",
    "        elif pclass == 2:\n",
    "            return 29\n",
    "        else:\n",
    "            return 26\n",
    "    else:\n",
    "        return age"
   ]
  },
  {
   "cell_type": "code",
   "execution_count": 1964,
   "metadata": {},
   "outputs": [],
   "source": [
    "train['Age'] = train[['Age', 'Pclass']].apply(fill_age, axis=1)"
   ]
  },
  {
   "cell_type": "code",
   "execution_count": 1965,
   "metadata": {},
   "outputs": [],
   "source": [
    "#same thought-process as earlier, create interaction term for Sex and Age\n",
    "train['Gender * Age'] = train['male'] * train['Age']"
   ]
  },
  {
   "cell_type": "code",
   "execution_count": 1966,
   "metadata": {},
   "outputs": [
    {
     "data": {
      "text/plain": [
       "PassengerId                 0\n",
       "Survived                    0\n",
       "Pclass                      0\n",
       "Age                         0\n",
       "SibSp                       0\n",
       "Parch                       0\n",
       "Fare                        0\n",
       "female                      0\n",
       "male                        0\n",
       "C                           0\n",
       "Q                           0\n",
       "S                           0\n",
       "Dr/Military/Noble/Clergy    0\n",
       "Master                      0\n",
       "Miss/Mrs/Ms                 0\n",
       "Mr                          0\n",
       "Family Size                 0\n",
       "Gender * Family Size        0\n",
       "Gender * Age                0\n",
       "dtype: int64"
      ]
     },
     "execution_count": 1966,
     "metadata": {},
     "output_type": "execute_result"
    }
   ],
   "source": [
    "#check to make sure each category filled\n",
    "train.isnull().sum()"
   ]
  },
  {
   "cell_type": "markdown",
   "metadata": {},
   "source": [
    "# Model Fitting"
   ]
  },
  {
   "cell_type": "code",
   "execution_count": 1967,
   "metadata": {},
   "outputs": [],
   "source": [
    "## split the data\n",
    "from sklearn.model_selection import train_test_split"
   ]
  },
  {
   "cell_type": "code",
   "execution_count": 1968,
   "metadata": {},
   "outputs": [],
   "source": [
    "x = train.drop(['PassengerId', 'Survived'], axis=1)\n",
    "y = train['Survived']"
   ]
  },
  {
   "cell_type": "code",
   "execution_count": 1969,
   "metadata": {},
   "outputs": [],
   "source": [
    "x_train, x_test, y_train, y_test = train_test_split(x, y, test_size=.3)"
   ]
  },
  {
   "cell_type": "code",
   "execution_count": 1970,
   "metadata": {},
   "outputs": [],
   "source": [
    "from sklearn.preprocessing import MinMaxScaler"
   ]
  },
  {
   "cell_type": "code",
   "execution_count": 1971,
   "metadata": {},
   "outputs": [],
   "source": [
    "#scale the data to help the DNN\n",
    "scaler = MinMaxScaler()"
   ]
  },
  {
   "cell_type": "code",
   "execution_count": 1972,
   "metadata": {},
   "outputs": [
    {
     "data": {
      "text/plain": [
       "MinMaxScaler()"
      ]
     },
     "execution_count": 1972,
     "metadata": {},
     "output_type": "execute_result"
    }
   ],
   "source": [
    "scaler.fit(x_train)"
   ]
  },
  {
   "cell_type": "code",
   "execution_count": 1973,
   "metadata": {},
   "outputs": [],
   "source": [
    "x_train = scaler.transform(x_train)\n",
    "x_test = scaler.transform(x_test)"
   ]
  },
  {
   "cell_type": "code",
   "execution_count": 1974,
   "metadata": {},
   "outputs": [],
   "source": [
    "import tensorflow as tf\n",
    "from tensorflow import keras"
   ]
  },
  {
   "cell_type": "code",
   "execution_count": 1975,
   "metadata": {},
   "outputs": [],
   "source": [
    "from keras.models import Sequential\n",
    "from keras.layers import Dense, Dropout\n",
    "from keras.callbacks import EarlyStopping"
   ]
  },
  {
   "cell_type": "code",
   "execution_count": 1976,
   "metadata": {},
   "outputs": [],
   "source": [
    "model = Sequential()"
   ]
  },
  {
   "cell_type": "code",
   "execution_count": 1977,
   "metadata": {},
   "outputs": [
    {
     "data": {
      "text/plain": [
       "(623, 17)"
      ]
     },
     "execution_count": 1977,
     "metadata": {},
     "output_type": "execute_result"
    }
   ],
   "source": [
    "x_train.shape"
   ]
  },
  {
   "cell_type": "code",
   "execution_count": 1978,
   "metadata": {},
   "outputs": [],
   "source": [
    "#add layers to the model. Create dropout layers in between to prevent overfitting\n",
    "model.add(Dense(17, activation='relu'))\n",
    "model.add(Dropout(.5))\n",
    "model.add(Dense(64, activation='relu'))\n",
    "model.add(Dropout(.5))\n",
    "model.add(Dense(64, activation='relu'))\n",
    "model.add(Dropout(.5))\n",
    "\n",
    "model.add(Dense(1, activation='sigmoid'))"
   ]
  },
  {
   "cell_type": "code",
   "execution_count": 1979,
   "metadata": {},
   "outputs": [],
   "source": [
    "#create an early stop to further prevent overfitting\n",
    "early_stop = EarlyStopping(monitor='val_loss', mode='min', verbose=1, patience=20)"
   ]
  },
  {
   "cell_type": "code",
   "execution_count": 1980,
   "metadata": {},
   "outputs": [],
   "source": [
    "model.compile(optimizer='adam', loss='BinaryCrossentropy', metrics='binary_accuracy')"
   ]
  },
  {
   "cell_type": "code",
   "execution_count": 1981,
   "metadata": {},
   "outputs": [
    {
     "name": "stdout",
     "output_type": "stream",
     "text": [
      "Epoch 1/500\n",
      "10/10 [==============================] - 2s 45ms/step - loss: 0.6846 - binary_accuracy: 0.5423 - val_loss: 0.6504 - val_binary_accuracy: 0.6791\n",
      "Epoch 2/500\n",
      "10/10 [==============================] - 0s 6ms/step - loss: 0.6446 - binary_accuracy: 0.6551 - val_loss: 0.6155 - val_binary_accuracy: 0.7649\n",
      "Epoch 3/500\n",
      "10/10 [==============================] - 0s 4ms/step - loss: 0.6222 - binary_accuracy: 0.6604 - val_loss: 0.5823 - val_binary_accuracy: 0.7761\n",
      "Epoch 4/500\n",
      "10/10 [==============================] - 0s 5ms/step - loss: 0.5934 - binary_accuracy: 0.6848 - val_loss: 0.5574 - val_binary_accuracy: 0.7724\n",
      "Epoch 5/500\n",
      "10/10 [==============================] - 0s 5ms/step - loss: 0.5597 - binary_accuracy: 0.7401 - val_loss: 0.5353 - val_binary_accuracy: 0.7575\n",
      "Epoch 6/500\n",
      "10/10 [==============================] - 0s 6ms/step - loss: 0.5495 - binary_accuracy: 0.7331 - val_loss: 0.5181 - val_binary_accuracy: 0.7612\n",
      "Epoch 7/500\n",
      "10/10 [==============================] - 0s 7ms/step - loss: 0.5317 - binary_accuracy: 0.7558 - val_loss: 0.5048 - val_binary_accuracy: 0.7575\n",
      "Epoch 8/500\n",
      "10/10 [==============================] - 0s 5ms/step - loss: 0.5034 - binary_accuracy: 0.7679 - val_loss: 0.4952 - val_binary_accuracy: 0.7575\n",
      "Epoch 9/500\n",
      "10/10 [==============================] - 0s 4ms/step - loss: 0.5381 - binary_accuracy: 0.7605 - val_loss: 0.4901 - val_binary_accuracy: 0.7575\n",
      "Epoch 10/500\n",
      "10/10 [==============================] - 0s 5ms/step - loss: 0.5324 - binary_accuracy: 0.7700 - val_loss: 0.4870 - val_binary_accuracy: 0.7575\n",
      "Epoch 11/500\n",
      "10/10 [==============================] - 0s 5ms/step - loss: 0.5439 - binary_accuracy: 0.7725 - val_loss: 0.4849 - val_binary_accuracy: 0.7612\n",
      "Epoch 12/500\n",
      "10/10 [==============================] - 0s 5ms/step - loss: 0.5263 - binary_accuracy: 0.7717 - val_loss: 0.4835 - val_binary_accuracy: 0.7687\n",
      "Epoch 13/500\n",
      "10/10 [==============================] - 0s 7ms/step - loss: 0.4921 - binary_accuracy: 0.8081 - val_loss: 0.4810 - val_binary_accuracy: 0.7799\n",
      "Epoch 14/500\n",
      "10/10 [==============================] - 0s 7ms/step - loss: 0.5270 - binary_accuracy: 0.7762 - val_loss: 0.4764 - val_binary_accuracy: 0.7836\n",
      "Epoch 15/500\n",
      "10/10 [==============================] - 0s 7ms/step - loss: 0.5129 - binary_accuracy: 0.7712 - val_loss: 0.4728 - val_binary_accuracy: 0.7836\n",
      "Epoch 16/500\n",
      "10/10 [==============================] - 0s 5ms/step - loss: 0.5157 - binary_accuracy: 0.7864 - val_loss: 0.4702 - val_binary_accuracy: 0.7836\n",
      "Epoch 17/500\n",
      "10/10 [==============================] - 0s 5ms/step - loss: 0.4624 - binary_accuracy: 0.8019 - val_loss: 0.4680 - val_binary_accuracy: 0.7836\n",
      "Epoch 18/500\n",
      "10/10 [==============================] - 0s 6ms/step - loss: 0.4743 - binary_accuracy: 0.8105 - val_loss: 0.4661 - val_binary_accuracy: 0.7836\n",
      "Epoch 19/500\n",
      "10/10 [==============================] - 0s 4ms/step - loss: 0.5272 - binary_accuracy: 0.7691 - val_loss: 0.4644 - val_binary_accuracy: 0.7873\n",
      "Epoch 20/500\n",
      "10/10 [==============================] - 0s 6ms/step - loss: 0.5011 - binary_accuracy: 0.8061 - val_loss: 0.4620 - val_binary_accuracy: 0.7836\n",
      "Epoch 21/500\n",
      "10/10 [==============================] - 0s 5ms/step - loss: 0.4825 - binary_accuracy: 0.8076 - val_loss: 0.4592 - val_binary_accuracy: 0.7873\n",
      "Epoch 22/500\n",
      "10/10 [==============================] - 0s 5ms/step - loss: 0.4824 - binary_accuracy: 0.7859 - val_loss: 0.4564 - val_binary_accuracy: 0.7985\n",
      "Epoch 23/500\n",
      "10/10 [==============================] - 0s 7ms/step - loss: 0.4980 - binary_accuracy: 0.7993 - val_loss: 0.4531 - val_binary_accuracy: 0.8022\n",
      "Epoch 24/500\n",
      "10/10 [==============================] - 0s 7ms/step - loss: 0.4685 - binary_accuracy: 0.7929 - val_loss: 0.4480 - val_binary_accuracy: 0.8022\n",
      "Epoch 25/500\n",
      "10/10 [==============================] - 0s 6ms/step - loss: 0.4533 - binary_accuracy: 0.8252 - val_loss: 0.4455 - val_binary_accuracy: 0.8097\n",
      "Epoch 26/500\n",
      "10/10 [==============================] - 0s 5ms/step - loss: 0.4988 - binary_accuracy: 0.7925 - val_loss: 0.4450 - val_binary_accuracy: 0.8097\n",
      "Epoch 27/500\n",
      "10/10 [==============================] - 0s 5ms/step - loss: 0.4661 - binary_accuracy: 0.8141 - val_loss: 0.4437 - val_binary_accuracy: 0.8134\n",
      "Epoch 28/500\n",
      "10/10 [==============================] - 0s 4ms/step - loss: 0.4945 - binary_accuracy: 0.7740 - val_loss: 0.4399 - val_binary_accuracy: 0.8134\n",
      "Epoch 29/500\n",
      "10/10 [==============================] - 0s 5ms/step - loss: 0.4572 - binary_accuracy: 0.7987 - val_loss: 0.4363 - val_binary_accuracy: 0.8172\n",
      "Epoch 30/500\n",
      "10/10 [==============================] - 0s 5ms/step - loss: 0.4845 - binary_accuracy: 0.8050 - val_loss: 0.4339 - val_binary_accuracy: 0.8209\n",
      "Epoch 31/500\n",
      "10/10 [==============================] - 0s 7ms/step - loss: 0.4293 - binary_accuracy: 0.8168 - val_loss: 0.4303 - val_binary_accuracy: 0.8209\n",
      "Epoch 32/500\n",
      "10/10 [==============================] - 0s 7ms/step - loss: 0.4411 - binary_accuracy: 0.8035 - val_loss: 0.4278 - val_binary_accuracy: 0.8246\n",
      "Epoch 33/500\n",
      "10/10 [==============================] - 0s 5ms/step - loss: 0.4671 - binary_accuracy: 0.7967 - val_loss: 0.4275 - val_binary_accuracy: 0.8209\n",
      "Epoch 34/500\n",
      "10/10 [==============================] - 0s 5ms/step - loss: 0.4482 - binary_accuracy: 0.8164 - val_loss: 0.4266 - val_binary_accuracy: 0.8246\n",
      "Epoch 35/500\n",
      "10/10 [==============================] - 0s 5ms/step - loss: 0.4421 - binary_accuracy: 0.8310 - val_loss: 0.4262 - val_binary_accuracy: 0.8246\n",
      "Epoch 36/500\n",
      "10/10 [==============================] - 0s 6ms/step - loss: 0.4781 - binary_accuracy: 0.8040 - val_loss: 0.4272 - val_binary_accuracy: 0.8358\n",
      "Epoch 37/500\n",
      "10/10 [==============================] - 0s 5ms/step - loss: 0.4482 - binary_accuracy: 0.8110 - val_loss: 0.4279 - val_binary_accuracy: 0.8321\n",
      "Epoch 38/500\n",
      "10/10 [==============================] - 0s 4ms/step - loss: 0.4330 - binary_accuracy: 0.8189 - val_loss: 0.4273 - val_binary_accuracy: 0.8321\n",
      "Epoch 39/500\n",
      "10/10 [==============================] - 0s 6ms/step - loss: 0.4593 - binary_accuracy: 0.8047 - val_loss: 0.4270 - val_binary_accuracy: 0.8246\n",
      "Epoch 40/500\n",
      "10/10 [==============================] - 0s 4ms/step - loss: 0.4676 - binary_accuracy: 0.7891 - val_loss: 0.4266 - val_binary_accuracy: 0.8246\n",
      "Epoch 41/500\n",
      "10/10 [==============================] - 0s 6ms/step - loss: 0.4509 - binary_accuracy: 0.8088 - val_loss: 0.4258 - val_binary_accuracy: 0.8246\n",
      "Epoch 42/500\n",
      "10/10 [==============================] - 0s 4ms/step - loss: 0.4519 - binary_accuracy: 0.8259 - val_loss: 0.4265 - val_binary_accuracy: 0.8246\n",
      "Epoch 43/500\n",
      "10/10 [==============================] - 0s 4ms/step - loss: 0.4539 - binary_accuracy: 0.8441 - val_loss: 0.4265 - val_binary_accuracy: 0.8321\n",
      "Epoch 44/500\n",
      "10/10 [==============================] - 0s 6ms/step - loss: 0.4298 - binary_accuracy: 0.8440 - val_loss: 0.4283 - val_binary_accuracy: 0.8246\n",
      "Epoch 45/500\n",
      "10/10 [==============================] - 0s 6ms/step - loss: 0.4880 - binary_accuracy: 0.7988 - val_loss: 0.4279 - val_binary_accuracy: 0.8321\n",
      "Epoch 46/500\n",
      "10/10 [==============================] - 0s 4ms/step - loss: 0.4357 - binary_accuracy: 0.8199 - val_loss: 0.4259 - val_binary_accuracy: 0.8284\n",
      "Epoch 47/500\n",
      "10/10 [==============================] - 0s 4ms/step - loss: 0.4432 - binary_accuracy: 0.8318 - val_loss: 0.4251 - val_binary_accuracy: 0.8358\n",
      "Epoch 48/500\n",
      "10/10 [==============================] - 0s 5ms/step - loss: 0.4217 - binary_accuracy: 0.8239 - val_loss: 0.4224 - val_binary_accuracy: 0.8209\n",
      "Epoch 49/500\n",
      "10/10 [==============================] - 0s 4ms/step - loss: 0.4291 - binary_accuracy: 0.8268 - val_loss: 0.4224 - val_binary_accuracy: 0.8321\n",
      "Epoch 50/500\n",
      "10/10 [==============================] - 0s 5ms/step - loss: 0.4568 - binary_accuracy: 0.8243 - val_loss: 0.4260 - val_binary_accuracy: 0.8321\n",
      "Epoch 51/500\n",
      "10/10 [==============================] - 0s 5ms/step - loss: 0.4493 - binary_accuracy: 0.8057 - val_loss: 0.4255 - val_binary_accuracy: 0.8321\n",
      "Epoch 52/500\n",
      "10/10 [==============================] - 0s 5ms/step - loss: 0.4241 - binary_accuracy: 0.8391 - val_loss: 0.4233 - val_binary_accuracy: 0.8321\n",
      "Epoch 53/500\n"
     ]
    },
    {
     "name": "stdout",
     "output_type": "stream",
     "text": [
      "10/10 [==============================] - 0s 5ms/step - loss: 0.4618 - binary_accuracy: 0.8272 - val_loss: 0.4224 - val_binary_accuracy: 0.8321\n",
      "Epoch 54/500\n",
      "10/10 [==============================] - 0s 4ms/step - loss: 0.4507 - binary_accuracy: 0.8219 - val_loss: 0.4208 - val_binary_accuracy: 0.8358\n",
      "Epoch 55/500\n",
      "10/10 [==============================] - 0s 4ms/step - loss: 0.4140 - binary_accuracy: 0.8346 - val_loss: 0.4209 - val_binary_accuracy: 0.8358\n",
      "Epoch 56/500\n",
      "10/10 [==============================] - 0s 4ms/step - loss: 0.4296 - binary_accuracy: 0.8117 - val_loss: 0.4219 - val_binary_accuracy: 0.8284\n",
      "Epoch 57/500\n",
      "10/10 [==============================] - 0s 4ms/step - loss: 0.4505 - binary_accuracy: 0.8125 - val_loss: 0.4219 - val_binary_accuracy: 0.8358\n",
      "Epoch 58/500\n",
      "10/10 [==============================] - 0s 4ms/step - loss: 0.3938 - binary_accuracy: 0.8487 - val_loss: 0.4233 - val_binary_accuracy: 0.8358\n",
      "Epoch 59/500\n",
      "10/10 [==============================] - 0s 4ms/step - loss: 0.4614 - binary_accuracy: 0.8038 - val_loss: 0.4224 - val_binary_accuracy: 0.8284\n",
      "Epoch 60/500\n",
      "10/10 [==============================] - 0s 4ms/step - loss: 0.4172 - binary_accuracy: 0.8443 - val_loss: 0.4197 - val_binary_accuracy: 0.8284\n",
      "Epoch 61/500\n",
      "10/10 [==============================] - 0s 5ms/step - loss: 0.4505 - binary_accuracy: 0.8142 - val_loss: 0.4175 - val_binary_accuracy: 0.8396\n",
      "Epoch 62/500\n",
      "10/10 [==============================] - 0s 4ms/step - loss: 0.4205 - binary_accuracy: 0.8217 - val_loss: 0.4176 - val_binary_accuracy: 0.8284\n",
      "Epoch 63/500\n",
      "10/10 [==============================] - 0s 4ms/step - loss: 0.4204 - binary_accuracy: 0.8405 - val_loss: 0.4162 - val_binary_accuracy: 0.8284\n",
      "Epoch 64/500\n",
      "10/10 [==============================] - 0s 6ms/step - loss: 0.4591 - binary_accuracy: 0.7963 - val_loss: 0.4154 - val_binary_accuracy: 0.8321\n",
      "Epoch 65/500\n",
      "10/10 [==============================] - 0s 4ms/step - loss: 0.4615 - binary_accuracy: 0.8163 - val_loss: 0.4153 - val_binary_accuracy: 0.8321\n",
      "Epoch 66/500\n",
      "10/10 [==============================] - 0s 5ms/step - loss: 0.4390 - binary_accuracy: 0.8223 - val_loss: 0.4167 - val_binary_accuracy: 0.8321\n",
      "Epoch 67/500\n",
      "10/10 [==============================] - 0s 4ms/step - loss: 0.4384 - binary_accuracy: 0.8324 - val_loss: 0.4178 - val_binary_accuracy: 0.8321\n",
      "Epoch 68/500\n",
      "10/10 [==============================] - 0s 5ms/step - loss: 0.3949 - binary_accuracy: 0.8432 - val_loss: 0.4166 - val_binary_accuracy: 0.8321\n",
      "Epoch 69/500\n",
      "10/10 [==============================] - 0s 4ms/step - loss: 0.4242 - binary_accuracy: 0.8273 - val_loss: 0.4139 - val_binary_accuracy: 0.8321\n",
      "Epoch 70/500\n",
      "10/10 [==============================] - 0s 4ms/step - loss: 0.4585 - binary_accuracy: 0.8327 - val_loss: 0.4130 - val_binary_accuracy: 0.8321\n",
      "Epoch 71/500\n",
      "10/10 [==============================] - 0s 4ms/step - loss: 0.4310 - binary_accuracy: 0.8183 - val_loss: 0.4130 - val_binary_accuracy: 0.8321\n",
      "Epoch 72/500\n",
      "10/10 [==============================] - 0s 4ms/step - loss: 0.4440 - binary_accuracy: 0.8042 - val_loss: 0.4138 - val_binary_accuracy: 0.8321\n",
      "Epoch 73/500\n",
      "10/10 [==============================] - 0s 4ms/step - loss: 0.4361 - binary_accuracy: 0.8068 - val_loss: 0.4141 - val_binary_accuracy: 0.8321\n",
      "Epoch 74/500\n",
      "10/10 [==============================] - 0s 4ms/step - loss: 0.4423 - binary_accuracy: 0.8224 - val_loss: 0.4144 - val_binary_accuracy: 0.8358\n",
      "Epoch 75/500\n",
      "10/10 [==============================] - 0s 5ms/step - loss: 0.4339 - binary_accuracy: 0.8243 - val_loss: 0.4143 - val_binary_accuracy: 0.8321\n",
      "Epoch 76/500\n",
      "10/10 [==============================] - 0s 4ms/step - loss: 0.4446 - binary_accuracy: 0.8131 - val_loss: 0.4164 - val_binary_accuracy: 0.8358\n",
      "Epoch 77/500\n",
      "10/10 [==============================] - 0s 4ms/step - loss: 0.4747 - binary_accuracy: 0.8165 - val_loss: 0.4178 - val_binary_accuracy: 0.8321\n",
      "Epoch 78/500\n",
      "10/10 [==============================] - 0s 4ms/step - loss: 0.4846 - binary_accuracy: 0.8159 - val_loss: 0.4171 - val_binary_accuracy: 0.8321\n",
      "Epoch 79/500\n",
      "10/10 [==============================] - 0s 4ms/step - loss: 0.4357 - binary_accuracy: 0.8168 - val_loss: 0.4165 - val_binary_accuracy: 0.8321\n",
      "Epoch 80/500\n",
      "10/10 [==============================] - 0s 4ms/step - loss: 0.4357 - binary_accuracy: 0.8386 - val_loss: 0.4152 - val_binary_accuracy: 0.8321\n",
      "Epoch 81/500\n",
      "10/10 [==============================] - 0s 4ms/step - loss: 0.4218 - binary_accuracy: 0.8397 - val_loss: 0.4134 - val_binary_accuracy: 0.8321\n",
      "Epoch 82/500\n",
      "10/10 [==============================] - 0s 4ms/step - loss: 0.3965 - binary_accuracy: 0.8408 - val_loss: 0.4130 - val_binary_accuracy: 0.8321\n",
      "Epoch 83/500\n",
      "10/10 [==============================] - 0s 5ms/step - loss: 0.4157 - binary_accuracy: 0.8403 - val_loss: 0.4105 - val_binary_accuracy: 0.8321\n",
      "Epoch 84/500\n",
      "10/10 [==============================] - 0s 4ms/step - loss: 0.3968 - binary_accuracy: 0.8514 - val_loss: 0.4085 - val_binary_accuracy: 0.8321\n",
      "Epoch 85/500\n",
      "10/10 [==============================] - 0s 4ms/step - loss: 0.4425 - binary_accuracy: 0.8305 - val_loss: 0.4078 - val_binary_accuracy: 0.8358\n",
      "Epoch 86/500\n",
      "10/10 [==============================] - 0s 4ms/step - loss: 0.4493 - binary_accuracy: 0.8186 - val_loss: 0.4080 - val_binary_accuracy: 0.8358\n",
      "Epoch 87/500\n",
      "10/10 [==============================] - 0s 4ms/step - loss: 0.4239 - binary_accuracy: 0.8407 - val_loss: 0.4085 - val_binary_accuracy: 0.8396\n",
      "Epoch 88/500\n",
      "10/10 [==============================] - 0s 5ms/step - loss: 0.4313 - binary_accuracy: 0.8297 - val_loss: 0.4079 - val_binary_accuracy: 0.8358\n",
      "Epoch 89/500\n",
      "10/10 [==============================] - 0s 5ms/step - loss: 0.4349 - binary_accuracy: 0.8316 - val_loss: 0.4090 - val_binary_accuracy: 0.8358\n",
      "Epoch 90/500\n",
      "10/10 [==============================] - 0s 5ms/step - loss: 0.4030 - binary_accuracy: 0.8550 - val_loss: 0.4102 - val_binary_accuracy: 0.8321\n",
      "Epoch 91/500\n",
      "10/10 [==============================] - 0s 4ms/step - loss: 0.4333 - binary_accuracy: 0.8338 - val_loss: 0.4101 - val_binary_accuracy: 0.8321\n",
      "Epoch 92/500\n",
      "10/10 [==============================] - 0s 6ms/step - loss: 0.4182 - binary_accuracy: 0.8238 - val_loss: 0.4118 - val_binary_accuracy: 0.8321\n",
      "Epoch 93/500\n",
      "10/10 [==============================] - 0s 4ms/step - loss: 0.4296 - binary_accuracy: 0.8266 - val_loss: 0.4126 - val_binary_accuracy: 0.8321\n",
      "Epoch 94/500\n",
      "10/10 [==============================] - 0s 4ms/step - loss: 0.4309 - binary_accuracy: 0.8327 - val_loss: 0.4133 - val_binary_accuracy: 0.8321\n",
      "Epoch 95/500\n",
      "10/10 [==============================] - 0s 4ms/step - loss: 0.4301 - binary_accuracy: 0.8361 - val_loss: 0.4146 - val_binary_accuracy: 0.8358\n",
      "Epoch 96/500\n",
      "10/10 [==============================] - 0s 4ms/step - loss: 0.4107 - binary_accuracy: 0.8484 - val_loss: 0.4139 - val_binary_accuracy: 0.8284\n",
      "Epoch 97/500\n",
      "10/10 [==============================] - 0s 4ms/step - loss: 0.4482 - binary_accuracy: 0.8236 - val_loss: 0.4145 - val_binary_accuracy: 0.8321\n",
      "Epoch 98/500\n",
      "10/10 [==============================] - 0s 4ms/step - loss: 0.4426 - binary_accuracy: 0.8157 - val_loss: 0.4127 - val_binary_accuracy: 0.8321\n",
      "Epoch 99/500\n",
      "10/10 [==============================] - 0s 6ms/step - loss: 0.4365 - binary_accuracy: 0.8052 - val_loss: 0.4120 - val_binary_accuracy: 0.8284\n",
      "Epoch 100/500\n",
      "10/10 [==============================] - 0s 6ms/step - loss: 0.4230 - binary_accuracy: 0.8344 - val_loss: 0.4105 - val_binary_accuracy: 0.8358\n",
      "Epoch 101/500\n",
      "10/10 [==============================] - 0s 4ms/step - loss: 0.4165 - binary_accuracy: 0.8294 - val_loss: 0.4097 - val_binary_accuracy: 0.8321\n",
      "Epoch 102/500\n",
      "10/10 [==============================] - 0s 4ms/step - loss: 0.4310 - binary_accuracy: 0.8233 - val_loss: 0.4091 - val_binary_accuracy: 0.8284\n",
      "Epoch 103/500\n",
      "10/10 [==============================] - 0s 4ms/step - loss: 0.4238 - binary_accuracy: 0.8140 - val_loss: 0.4089 - val_binary_accuracy: 0.8358\n",
      "Epoch 104/500\n",
      "10/10 [==============================] - 0s 4ms/step - loss: 0.4279 - binary_accuracy: 0.8328 - val_loss: 0.4078 - val_binary_accuracy: 0.8358\n",
      "Epoch 105/500\n"
     ]
    },
    {
     "name": "stdout",
     "output_type": "stream",
     "text": [
      "10/10 [==============================] - 0s 4ms/step - loss: 0.3949 - binary_accuracy: 0.8465 - val_loss: 0.4070 - val_binary_accuracy: 0.8396\n",
      "Epoch 106/500\n",
      "10/10 [==============================] - 0s 4ms/step - loss: 0.4270 - binary_accuracy: 0.8314 - val_loss: 0.4093 - val_binary_accuracy: 0.8321\n",
      "Epoch 107/500\n",
      "10/10 [==============================] - 0s 6ms/step - loss: 0.4352 - binary_accuracy: 0.8260 - val_loss: 0.4125 - val_binary_accuracy: 0.8358\n",
      "Epoch 108/500\n",
      "10/10 [==============================] - 0s 4ms/step - loss: 0.3964 - binary_accuracy: 0.8518 - val_loss: 0.4136 - val_binary_accuracy: 0.8321\n",
      "Epoch 109/500\n",
      "10/10 [==============================] - 0s 4ms/step - loss: 0.4326 - binary_accuracy: 0.8363 - val_loss: 0.4140 - val_binary_accuracy: 0.8284\n",
      "Epoch 110/500\n",
      "10/10 [==============================] - 0s 5ms/step - loss: 0.4037 - binary_accuracy: 0.8370 - val_loss: 0.4134 - val_binary_accuracy: 0.8246\n",
      "Epoch 111/500\n",
      "10/10 [==============================] - 0s 6ms/step - loss: 0.4243 - binary_accuracy: 0.8279 - val_loss: 0.4121 - val_binary_accuracy: 0.8246\n",
      "Epoch 112/500\n",
      "10/10 [==============================] - 0s 6ms/step - loss: 0.4665 - binary_accuracy: 0.7898 - val_loss: 0.4113 - val_binary_accuracy: 0.8358\n",
      "Epoch 113/500\n",
      "10/10 [==============================] - 0s 5ms/step - loss: 0.4149 - binary_accuracy: 0.8405 - val_loss: 0.4107 - val_binary_accuracy: 0.8321\n",
      "Epoch 114/500\n",
      "10/10 [==============================] - 0s 4ms/step - loss: 0.4812 - binary_accuracy: 0.8149 - val_loss: 0.4118 - val_binary_accuracy: 0.8358\n",
      "Epoch 115/500\n",
      "10/10 [==============================] - 0s 4ms/step - loss: 0.4481 - binary_accuracy: 0.8204 - val_loss: 0.4139 - val_binary_accuracy: 0.8321\n",
      "Epoch 116/500\n",
      "10/10 [==============================] - 0s 4ms/step - loss: 0.4303 - binary_accuracy: 0.8374 - val_loss: 0.4155 - val_binary_accuracy: 0.8246\n",
      "Epoch 117/500\n",
      "10/10 [==============================] - 0s 4ms/step - loss: 0.4476 - binary_accuracy: 0.8072 - val_loss: 0.4158 - val_binary_accuracy: 0.8284\n",
      "Epoch 118/500\n",
      "10/10 [==============================] - 0s 3ms/step - loss: 0.4275 - binary_accuracy: 0.8455 - val_loss: 0.4156 - val_binary_accuracy: 0.8246\n",
      "Epoch 119/500\n",
      "10/10 [==============================] - 0s 4ms/step - loss: 0.4195 - binary_accuracy: 0.8268 - val_loss: 0.4126 - val_binary_accuracy: 0.8284\n",
      "Epoch 120/500\n",
      "10/10 [==============================] - 0s 4ms/step - loss: 0.4487 - binary_accuracy: 0.8192 - val_loss: 0.4111 - val_binary_accuracy: 0.8321\n",
      "Epoch 121/500\n",
      "10/10 [==============================] - 0s 6ms/step - loss: 0.3942 - binary_accuracy: 0.8461 - val_loss: 0.4112 - val_binary_accuracy: 0.8396\n",
      "Epoch 122/500\n",
      "10/10 [==============================] - 0s 4ms/step - loss: 0.4335 - binary_accuracy: 0.8338 - val_loss: 0.4120 - val_binary_accuracy: 0.8284\n",
      "Epoch 123/500\n",
      "10/10 [==============================] - 0s 4ms/step - loss: 0.4420 - binary_accuracy: 0.8354 - val_loss: 0.4119 - val_binary_accuracy: 0.8284\n",
      "Epoch 124/500\n",
      "10/10 [==============================] - 0s 4ms/step - loss: 0.4651 - binary_accuracy: 0.8015 - val_loss: 0.4139 - val_binary_accuracy: 0.8284\n",
      "Epoch 125/500\n",
      "10/10 [==============================] - 0s 5ms/step - loss: 0.3886 - binary_accuracy: 0.8492 - val_loss: 0.4144 - val_binary_accuracy: 0.8284\n",
      "Epoch 00125: early stopping\n"
     ]
    },
    {
     "data": {
      "text/plain": [
       "<keras.callbacks.History at 0x7feb3d0d01c0>"
      ]
     },
     "execution_count": 1981,
     "metadata": {},
     "output_type": "execute_result"
    }
   ],
   "source": [
    "model.fit(x=x_train, y=y_train, validation_data=(x_test, y_test), epochs=500, batch_size=64, callbacks=[early_stop])"
   ]
  },
  {
   "cell_type": "code",
   "execution_count": 1982,
   "metadata": {},
   "outputs": [],
   "source": [
    "losses = pd.DataFrame(model.history.history)"
   ]
  },
  {
   "cell_type": "code",
   "execution_count": 1983,
   "metadata": {},
   "outputs": [
    {
     "data": {
      "text/plain": [
       "<matplotlib.axes._subplots.AxesSubplot at 0x7feb3deb9a30>"
      ]
     },
     "execution_count": 1983,
     "metadata": {},
     "output_type": "execute_result"
    },
    {
     "data": {
      "image/png": "[encoded data removed]",
      "text/plain": [
       "<Figure size 432x288 with 1 Axes>"
      ]
     },
     "metadata": {
      "needs_background": "light"
     },
     "output_type": "display_data"
    }
   ],
   "source": [
    "#plot losses to check for overfitting/accuracy\n",
    "losses.plot()"
   ]
  },
  {
   "cell_type": "code",
   "execution_count": 1984,
   "metadata": {},
   "outputs": [
    {
     "name": "stderr",
     "output_type": "stream",
     "text": [
      "/Users/colesilva/opt/anaconda3/lib/python3.8/site-packages/keras/engine/sequential.py:450: UserWarning: `model.predict_classes()` is deprecated and will be removed after 2021-01-01. Please use instead:* `np.argmax(model.predict(x), axis=-1)`,   if your model does multi-class classification   (e.g. if it uses a `softmax` last-layer activation).* `(model.predict(x) > 0.5).astype(\"int32\")`,   if your model does binary classification   (e.g. if it uses a `sigmoid` last-layer activation).\n",
      "  warnings.warn('`model.predict_classes()` is deprecated and '\n"
     ]
    }
   ],
   "source": [
    "preds = model.predict_classes(x_test)"
   ]
  },
  {
   "cell_type": "code",
   "execution_count": 1985,
   "metadata": {},
   "outputs": [],
   "source": [
    "from sklearn.metrics import classification_report"
   ]
  },
  {
   "cell_type": "code",
   "execution_count": 1986,
   "metadata": {},
   "outputs": [
    {
     "name": "stdout",
     "output_type": "stream",
     "text": [
      "              precision    recall  f1-score   support\n",
      "\n",
      "           0       0.85      0.88      0.86       163\n",
      "           1       0.80      0.75      0.77       105\n",
      "\n",
      "    accuracy                           0.83       268\n",
      "   macro avg       0.82      0.81      0.82       268\n",
      "weighted avg       0.83      0.83      0.83       268\n",
      "\n"
     ]
    }
   ],
   "source": [
    "#check total accuracy and f1-scores of the model\n",
    "print(classification_report(y_test, preds))"
   ]
  }
 ],
 "metadata": {
  "kernelspec": {
   "display_name": "Python 3",
   "language": "python",
   "name": "python3"
  },
  "language_info": {
   "codemirror_mode": {
    "name": "ipython",
    "version": 3
   },
   "file_extension": ".py",
   "mimetype": "text/x-python",
   "name": "python",
   "nbconvert_exporter": "python",
   "pygments_lexer": "ipython3",
   "version": "3.8.3"
  }
 },
 "nbformat": 4,
 "nbformat_minor": 4
}
